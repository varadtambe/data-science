{
  "nbformat": 4,
  "nbformat_minor": 0,
  "metadata": {
    "colab": {
      "provenance": []
    },
    "kernelspec": {
      "name": "python3",
      "display_name": "Python 3"
    },
    "language_info": {
      "name": "python"
    }
  },
  "cells": [
    {
      "cell_type": "markdown",
      "source": [
        "**Title:** *Data Science Notebook*\n"
      ],
      "metadata": {
        "id": "H9tQh0vkM3H7"
      }
    },
    {
      "cell_type": "markdown",
      "source": [
        "**Introduction:**\n",
        "\n",
        "*This notebook explores various aspects of Data Science, including programming languages, libraries, tools, and basic arithmetic expressions. We will cover essential concepts and provide examples to get started on the Data Science journey*"
      ],
      "metadata": {
        "id": "RKkF68JmM8-e"
      }
    },
    {
      "cell_type": "markdown",
      "source": [
        "**Data Science Languages:**\n",
        "\n",
        "- Python\n",
        "- R\n",
        "- Julia\n",
        "- SQL"
      ],
      "metadata": {
        "id": "507mV4FTNjDl"
      }
    },
    {
      "cell_type": "markdown",
      "source": [
        "**Data Science Libraries:**\n",
        "\n",
        "- NumPy\n",
        "- Pandas\n",
        "- Matplotlib\n",
        "- Seaborn\n",
        "- Scikit-learn\n",
        "- TensorFlow\n",
        "- PyTorch"
      ],
      "metadata": {
        "id": "HxR9e68LOJbd"
      }
    },
    {
      "cell_type": "markdown",
      "source": [
        "**Data Science Tools:**\n",
        "\n",
        "| Category       | Tools              |\n",
        "|----------------|--------------------|\n",
        "| Data Analysis  | Pandas, NumPy      |\n",
        "| Data Visualization | Matplotlib, Seaborn |\n",
        "| Machine Learning  | Scikit-learn, TensorFlow, PyTorch |\n",
        "| Database Management | SQL, SQLite     |"
      ],
      "metadata": {
        "id": "H7xPh09cOa7q"
      }
    },
    {
      "cell_type": "markdown",
      "source": [
        "**Arithmetic Expression Examples:**\n",
        "\n",
        "Arithmetic expressions involve basic mathematical operations like addition, subtraction, multiplication, and division. Let's take a look at some examples."
      ],
      "metadata": {
        "id": "TX5wUvbaOohn"
      }
    },
    {
      "cell_type": "code",
      "source": [
        "# Multiplication and Addition\n",
        "x = 5\n",
        "y = 3\n",
        "multiplication_result = x * y\n",
        "addition_result = x + y\n",
        "print(\"Multiplication Result:\", multiplication_result)\n",
        "print(\"Addition Result:\", addition_result)"
      ],
      "metadata": {
        "colab": {
          "base_uri": "https://localhost:8080/"
        },
        "id": "lgLJiI90O0WT",
        "outputId": "62884c5c-893d-44d5-8111-ac59103cc0b1"
      },
      "execution_count": 1,
      "outputs": [
        {
          "output_type": "stream",
          "name": "stdout",
          "text": [
            "Multiplication Result: 15\n",
            "Addition Result: 8\n"
          ]
        }
      ]
    },
    {
      "cell_type": "code",
      "source": [
        "# Convert Minutes to Hours\n",
        "minutes = 150\n",
        "hours = minutes / 60\n",
        "print(minutes, \"minutes is equal to\", hours, \"hours\")"
      ],
      "metadata": {
        "colab": {
          "base_uri": "https://localhost:8080/"
        },
        "id": "0jPacM6cO6US",
        "outputId": "71b74b36-8718-46bb-d141-0408e91568a8"
      },
      "execution_count": 2,
      "outputs": [
        {
          "output_type": "stream",
          "name": "stdout",
          "text": [
            "150 minutes is equal to 2.5 hours\n"
          ]
        }
      ]
    },
    {
      "cell_type": "markdown",
      "source": [
        "**Objectives**\n",
        "\n",
        "In this notebook, we aim to:\n",
        "\n",
        "1. Explore various programming languages used in data science.\n",
        "2. Familiarize ourselves with essential data science libraries.\n",
        "3. Understand and work with common data science tools.\n",
        "4. Learn about basic arithmetic expressions and their usage."
      ],
      "metadata": {
        "id": "Tpkn67f6O-Yk"
      }
    },
    {
      "cell_type": "markdown",
      "source": [
        "**Author**\n",
        "\n",
        "This notebook was created by Varad Tambe."
      ],
      "metadata": {
        "id": "Y1J41RxwPBRJ"
      }
    }
  ]
}